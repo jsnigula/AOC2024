{
 "cells": [
  {
   "cell_type": "code",
   "execution_count": 1,
   "id": "a9ee00fa-7910-4dff-9470-04021b0f16b3",
   "metadata": {},
   "outputs": [],
   "source": [
    "import numpy as np"
   ]
  },
  {
   "cell_type": "code",
   "execution_count": 12,
   "id": "3998b42f-e6a2-4fcf-af67-0da0cfac0f8d",
   "metadata": {},
   "outputs": [],
   "source": [
    "def read_input(infile):\n",
    "    keys = []\n",
    "    locks = []\n",
    "    with open(infile, 'r') as inf:\n",
    "        data = []\n",
    "        for line in inf.readlines():\n",
    "            if len(line.strip()) == 0:\n",
    "                if data[0][0] == 0:\n",
    "                    keys.append(np.array(data, dtype=int))\n",
    "                else:\n",
    "                    locks.append(np.array(data, dtype=int))\n",
    "                data = []\n",
    "                continue\n",
    "                \n",
    "            data.append([1 if c == '#' else 0 for c in line.strip()])\n",
    "\n",
    "    if data[0][0] == 0:\n",
    "        keys.append(np.array(data, dtype=int))\n",
    "    else:\n",
    "        locks.append(np.array(data, dtype=int))\n",
    "\n",
    "    return keys, locks"
   ]
  },
  {
   "cell_type": "code",
   "execution_count": 15,
   "id": "da5c17b3-477b-4f2c-a51b-b526a14f95f9",
   "metadata": {},
   "outputs": [
    {
     "data": {
      "text/plain": [
       "3338"
      ]
     },
     "execution_count": 15,
     "metadata": {},
     "output_type": "execute_result"
    }
   ],
   "source": [
    "def check(keys, locks):\n",
    "\n",
    "    nmatch = 0\n",
    "    for l in locks:\n",
    "        for k in keys:\n",
    "            if np.any(l+k > 1):\n",
    "                continue\n",
    "            else:\n",
    "                nmatch += 1\n",
    "    return nmatch\n",
    "\n",
    "check(*read_input('input25.txt'))\n"
   ]
  },
  {
   "cell_type": "code",
   "execution_count": 1,
   "id": "02f1ce99-6ff6-4230-acc0-c841156b0b96",
   "metadata": {},
   "outputs": [
    {
     "ename": "SyntaxError",
     "evalue": "invalid syntax (1642280105.py, line 5)",
     "output_type": "error",
     "traceback": [
      "\u001b[0;36m  Input \u001b[0;32mIn [1]\u001b[0;36m\u001b[0m\n\u001b[0;31m    res =\u001b[0m\n\u001b[0m          ^\u001b[0m\n\u001b[0;31mSyntaxError\u001b[0m\u001b[0;31m:\u001b[0m invalid syntax\n"
     ]
    }
   ],
   "source": [
    "print('*******\\nPuzzle1\\n*******\\n')\n",
    "\n",
    "print('Test case\\n---------\\n')\n",
    "\n",
    "res = check(*read_input('input25a.txt'))\n",
    "\n",
    "print(f'Number of matches is {res}')\n",
    "\n",
    "assert res == 3\n",
    "\n",
    "print('\\nPuzzle case\\n-----------\\n')\n",
    "\n",
    "res = check(*read_input('input25.txt'))\n",
    "\n",
    "print(f'Number of matches  is {res}')\n",
    "\n",
    "assert res == 3338\n",
    "\n",
    "print('\\n*******\\nPuzzle2\\n*******\\n')\n",
    "\n",
    "print('Test case\\n---------\\n')\n",
    "\n",
    "res = \n",
    "\n",
    "print(f' is {res}')\n",
    "\n",
    "assert res == \n",
    "\n",
    "print('\\nPuzzle case\\n-----------\\n')\n",
    "\n",
    "res = \n",
    "\n",
    "print(f' is {res}')\n",
    "\n",
    "assert res == \n"
   ]
  },
  {
   "cell_type": "code",
   "execution_count": null,
   "id": "478feba0-3d74-4ece-85c6-781180f497c6",
   "metadata": {},
   "outputs": [],
   "source": []
  }
 ],
 "metadata": {
  "kernelspec": {
   "display_name": "Python 3 (ipykernel)",
   "language": "python",
   "name": "python3"
  },
  "language_info": {
   "codemirror_mode": {
    "name": "ipython",
    "version": 3
   },
   "file_extension": ".py",
   "mimetype": "text/x-python",
   "name": "python",
   "nbconvert_exporter": "python",
   "pygments_lexer": "ipython3",
   "version": "3.11.4"
  }
 },
 "nbformat": 4,
 "nbformat_minor": 5
}
