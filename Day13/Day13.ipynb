{
 "cells": [
  {
   "cell_type": "code",
   "execution_count": 4,
   "id": "a9ee00fa-7910-4dff-9470-04021b0f16b3",
   "metadata": {},
   "outputs": [],
   "source": [
    "import re"
   ]
  },
  {
   "cell_type": "code",
   "execution_count": 105,
   "id": "3998b42f-e6a2-4fcf-af67-0da0cfac0f8d",
   "metadata": {},
   "outputs": [],
   "source": [
    "def read_input(infile):\n",
    "    machines = []\n",
    "    with open(infile, 'r') as inf:\n",
    "        for line in inf.readlines():\n",
    "            if line.startswith('Button A:'):\n",
    "                xa, ya = re.match(r'Button A: X\\+(\\d+), Y\\+(\\d+)', line.strip()).groups()\n",
    "            elif line.startswith('Button B:'):\n",
    "                xb, yb = re.match(r'Button B: X\\+(\\d+), Y\\+(\\d+)', line.strip()).groups()\n",
    "            elif line.startswith('Prize:'):\n",
    "                xp, yp = re.match(r'Prize: X=(\\d+), Y=(\\d+)', line.strip()).groups()\n",
    "            elif line.strip() == '':\n",
    "                machines.append((int(xa), int(ya), int(xb), int(yb), int(xp), int(yp)))\n",
    "            else:\n",
    "                print(f'Parser error on {line}!')\n",
    "    machines.append((int(xa), int(ya), int(xb), int(yb), int(xp), int(yp)))\n",
    "\n",
    "    return machines\n",
    "\n",
    "def get_price(machines):\n",
    "    costs = []\n",
    "    for xa, ya, xb, yb, xp, yp in machines:\n",
    "\n",
    "        best_cost = 1e9\n",
    "\n",
    "        max_b = 100\n",
    "        for n_a in range(100):\n",
    "            for n_b in range(max_b):\n",
    "                if (xa*n_a + xb*n_b) == xp and (ya*n_a + yb*n_b) == yp:\n",
    "                    cost = 3*n_a + n_b\n",
    "                    best_cost = min(cost, best_cost)\n",
    "                if (xa*n_a + xb*n_b) > xp:\n",
    "                    max_b = n_b\n",
    "        if best_cost < 1e9:\n",
    "            costs.append(best_cost)\n",
    "\n",
    "    return sum(costs)\n",
    "\n",
    "def get_price_with_math(machines):\n",
    "    costs = []\n",
    "    for xa, ya, xb, yb, xp, yp in machines:\n",
    "\n",
    "        xp += 10000000000000\n",
    "        yp += 10000000000000\n",
    "\n",
    "        a = (yp*xb - yb*xp) / (ya*xb - yb*xa)\n",
    "        b = (yp - ya*a) / yb\n",
    "\n",
    "        # print(a,b)\n",
    "\n",
    "        if int(a) == a and int(b) == b:\n",
    "            costs.append(int(a*3+b))\n",
    "    return sum(costs)"
   ]
  },
  {
   "cell_type": "code",
   "execution_count": 107,
   "id": "da5c17b3-477b-4f2c-a51b-b526a14f95f9",
   "metadata": {},
   "outputs": [
    {
     "data": {
      "text/plain": [
       "104140871044942"
      ]
     },
     "execution_count": 107,
     "metadata": {},
     "output_type": "execute_result"
    }
   ],
   "source": [
    "get_price_with_math(read_input('input13.txt'))"
   ]
  },
  {
   "cell_type": "code",
   "execution_count": 1,
   "id": "02f1ce99-6ff6-4230-acc0-c841156b0b96",
   "metadata": {},
   "outputs": [
    {
     "ename": "SyntaxError",
     "evalue": "invalid syntax (1642280105.py, line 5)",
     "output_type": "error",
     "traceback": [
      "\u001b[0;36m  Input \u001b[0;32mIn [1]\u001b[0;36m\u001b[0m\n\u001b[0;31m    res =\u001b[0m\n\u001b[0m          ^\u001b[0m\n\u001b[0;31mSyntaxError\u001b[0m\u001b[0;31m:\u001b[0m invalid syntax\n"
     ]
    }
   ],
   "source": [
    "print('*******\\nPuzzle1\\n*******\\n')\n",
    "\n",
    "print('Test case\\n---------\\n')\n",
    "\n",
    "res = get_price(read_input('input13.txt'))\n",
    "\n",
    "print(f'Cost is {res}')\n",
    "\n",
    "assert res == 480\n",
    "\n",
    "print('\\nPuzzle case\\n-----------\\n')\n",
    "\n",
    "res = get_price_with_math(read_input('input13.txt'))\n",
    "\n",
    "print(f'Cost is {res}')\n",
    "\n",
    "assert res == 29201\n",
    "\n",
    "print('\\n*******\\nPuzzle2\\n*******\\n')\n",
    "\n",
    "print('Test case\\n---------\\n')\n",
    "\n",
    "res = \n",
    "\n",
    "print(f' is {res}')\n",
    "\n",
    "assert res == \n",
    "\n",
    "print('\\nPuzzle case\\n-----------\\n')\n",
    "\n",
    "res = \n",
    "\n",
    "print(f' is {res}')\n",
    "\n",
    "assert res == \n"
   ]
  },
  {
   "cell_type": "code",
   "execution_count": 55,
   "id": "478feba0-3d74-4ece-85c6-781180f497c6",
   "metadata": {},
   "outputs": [
    {
     "data": {
      "text/plain": [
       "72"
      ]
     },
     "execution_count": 55,
     "metadata": {},
     "output_type": "execute_result"
    }
   ],
   "source": [
    "8400 // (94+22)"
   ]
  },
  {
   "cell_type": "code",
   "execution_count": 69,
   "id": "2154ac20-9834-40af-b640-cd46aa8d27d8",
   "metadata": {},
   "outputs": [
    {
     "data": {
      "text/plain": [
       "0"
      ]
     },
     "execution_count": 69,
     "metadata": {},
     "output_type": "execute_result"
    }
   ],
   "source": [
    "(8400 - (94 * 80 )) % 22"
   ]
  },
  {
   "cell_type": "code",
   "execution_count": 91,
   "id": "258cd3fe-8cd2-45a8-9190-8e6b1d57d14f",
   "metadata": {},
   "outputs": [
    {
     "data": {
      "text/plain": [
       "80.0"
      ]
     },
     "execution_count": 91,
     "metadata": {},
     "output_type": "execute_result"
    }
   ],
   "source": [
    "(22*5400 - 8400*67) / (34*22 - 67*94)"
   ]
  },
  {
   "cell_type": "code",
   "execution_count": 93,
   "id": "4425204d-1eed-4828-8bc5-fc60ecfc05d8",
   "metadata": {},
   "outputs": [
    {
     "data": {
      "text/plain": [
       "40.0"
      ]
     },
     "execution_count": 93,
     "metadata": {},
     "output_type": "execute_result"
    }
   ],
   "source": [
    "(5400 - 34*80) / 67"
   ]
  },
  {
   "cell_type": "code",
   "execution_count": null,
   "id": "372d22dd-2757-4449-82af-a76120983899",
   "metadata": {},
   "outputs": [],
   "source": []
  }
 ],
 "metadata": {
  "kernelspec": {
   "display_name": "Python 3 (ipykernel)",
   "language": "python",
   "name": "python3"
  },
  "language_info": {
   "codemirror_mode": {
    "name": "ipython",
    "version": 3
   },
   "file_extension": ".py",
   "mimetype": "text/x-python",
   "name": "python",
   "nbconvert_exporter": "python",
   "pygments_lexer": "ipython3",
   "version": "3.11.4"
  }
 },
 "nbformat": 4,
 "nbformat_minor": 5
}
