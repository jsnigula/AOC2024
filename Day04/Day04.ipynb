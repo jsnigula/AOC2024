{
 "cells": [
  {
   "cell_type": "code",
   "execution_count": 1,
   "id": "a9ee00fa-7910-4dff-9470-04021b0f16b3",
   "metadata": {},
   "outputs": [],
   "source": [
    "import re\n",
    "import numpy as np"
   ]
  },
  {
   "cell_type": "code",
   "execution_count": 2,
   "id": "3998b42f-e6a2-4fcf-af67-0da0cfac0f8d",
   "metadata": {},
   "outputs": [],
   "source": [
    "def read_input(infile):\n",
    "    in_data = []\n",
    "    with open(infile, 'r') as inf:\n",
    "        for line in inf.readlines():\n",
    "            in_data.append([c for c in line.strip()])\n",
    "    return np.array(in_data)"
   ]
  },
  {
   "cell_type": "code",
   "execution_count": 3,
   "id": "da5c17b3-477b-4f2c-a51b-b526a14f95f9",
   "metadata": {},
   "outputs": [],
   "source": [
    "def find_xmas(data):\n",
    "\n",
    "    ny, nx = data.shape\n",
    "    \n",
    "    n_found = 0\n",
    "    # Search rows:\n",
    "    for i in range(ny):\n",
    "        n_found += len(re.findall(r'XMAS', ''.join(data[i,:])))\n",
    "        n_found += len(re.findall(r'SAMX', ''.join(data[i,:])))\n",
    "\n",
    "    # Search cols:\n",
    "    for i in range(nx):\n",
    "        n_found += len(re.findall(r'XMAS', ''.join(data[:,i])))\n",
    "        n_found += len(re.findall(r'SAMX', ''.join(data[:,i])))\n",
    "\n",
    "    # Search diagonals\n",
    "    # \\\n",
    "    for i in range(nx):\n",
    "        # \\ along x\n",
    "        l = min(ny, nx-i)\n",
    "        yr, xr = np.arange(0, l), np.arange(i, l+i)\n",
    "        n_found += len(re.findall(r'XMAS', ''.join(data[yr, xr])))\n",
    "        n_found += len(re.findall(r'SAMX', ''.join(data[yr, xr])))\n",
    "\n",
    "        yr = yr[::-1] + (ny-l)\n",
    "        n_found += len(re.findall(r'XMAS', ''.join(data[yr, xr])))\n",
    "        n_found += len(re.findall(r'SAMX', ''.join(data[yr, xr])))\n",
    "\n",
    "    # Fill in the remaining triangle\n",
    "    for i in range(1, ny+1):\n",
    "        # \\ along y\n",
    "        l = min(ny, nx-i) + 1\n",
    "        yr, xr = np.arange(i, l+i-1), np.arange(0, l-1)\n",
    "        n_found += len(re.findall(r'XMAS', ''.join(data[yr, xr])))\n",
    "        n_found += len(re.findall(r'SAMX', ''.join(data[yr, xr])))\n",
    "\n",
    "        yr = yr[::-1] - i\n",
    "        n_found += len(re.findall(r'XMAS', ''.join(data[yr, xr])))\n",
    "        n_found += len(re.findall(r'SAMX', ''.join(data[yr, xr])))\n",
    "\n",
    "    return n_found"
   ]
  },
  {
   "cell_type": "code",
   "execution_count": 4,
   "id": "69639317-7978-459a-94ec-5676990afe61",
   "metadata": {},
   "outputs": [],
   "source": [
    "def find_x_mas(data):\n",
    "    n_found = 0\n",
    "    for y, x in np.argwhere(data[1:-1,1:-1] == 'A'):\n",
    "        y += 1\n",
    "        x += 1\n",
    "        s1 = sorted([data[y+i, x+i] for i in [-1, 1]])\n",
    "        s2 = sorted([data[y+i, x-i] for i in [-1, 1]])\n",
    "        if s1 == ['M', 'S'] and s2 == ['M', 'S']:\n",
    "            n_found += 1\n",
    "\n",
    "    return n_found"
   ]
  },
  {
   "cell_type": "code",
   "execution_count": 5,
   "id": "02f1ce99-6ff6-4230-acc0-c841156b0b96",
   "metadata": {},
   "outputs": [
    {
     "name": "stdout",
     "output_type": "stream",
     "text": [
      "*******\n",
      "Puzzle1\n",
      "*******\n",
      "\n",
      "Test case\n",
      "---------\n",
      "\n",
      "Found 18 XMAS\n",
      "\n",
      "Puzzle case\n",
      "-----------\n",
      "\n",
      "Found 2521 XMAS\n",
      "\n",
      "*******\n",
      "Puzzle2\n",
      "*******\n",
      "\n",
      "Test case\n",
      "---------\n",
      "\n",
      "Found is 9 X-MAS\n",
      "\n",
      "Puzzle case\n",
      "-----------\n",
      "\n",
      "Found 1912 X-MAS\n"
     ]
    }
   ],
   "source": [
    "print('*******\\nPuzzle1\\n*******\\n')\n",
    "\n",
    "print('Test case\\n---------\\n')\n",
    "\n",
    "res = find_xmas(read_input('input04b.txt'))\n",
    "\n",
    "print(f'Found {res} XMAS')\n",
    "\n",
    "assert res == 18\n",
    "\n",
    "print('\\nPuzzle case\\n-----------\\n')\n",
    "\n",
    "res = find_xmas(read_input('input04.txt'))\n",
    "\n",
    "print(f'Found {res} XMAS')\n",
    "\n",
    "assert res == 2521\n",
    "\n",
    "print('\\n*******\\nPuzzle2\\n*******\\n')\n",
    "\n",
    "print('Test case\\n---------\\n')\n",
    "\n",
    "res = find_x_mas(read_input('input04b.txt'))\n",
    "\n",
    "print(f'Found is {res} X-MAS')\n",
    "\n",
    "assert res == 9\n",
    "\n",
    "print('\\nPuzzle case\\n-----------\\n')\n",
    "\n",
    "res = find_x_mas(read_input('input04.txt'))\n",
    "\n",
    "print(f'Found {res} X-MAS')\n",
    "\n",
    "assert res == 1912\n"
   ]
  },
  {
   "cell_type": "code",
   "execution_count": null,
   "id": "478feba0-3d74-4ece-85c6-781180f497c6",
   "metadata": {},
   "outputs": [],
   "source": []
  }
 ],
 "metadata": {
  "kernelspec": {
   "display_name": "Python 3 (ipykernel)",
   "language": "python",
   "name": "python3"
  },
  "language_info": {
   "codemirror_mode": {
    "name": "ipython",
    "version": 3
   },
   "file_extension": ".py",
   "mimetype": "text/x-python",
   "name": "python",
   "nbconvert_exporter": "python",
   "pygments_lexer": "ipython3",
   "version": "3.10.4"
  }
 },
 "nbformat": 4,
 "nbformat_minor": 5
}
