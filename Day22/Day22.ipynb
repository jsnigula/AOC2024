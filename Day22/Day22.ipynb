{
 "cells": [
  {
   "cell_type": "code",
   "execution_count": 1,
   "id": "a9ee00fa-7910-4dff-9470-04021b0f16b3",
   "metadata": {},
   "outputs": [],
   "source": [
    "import numpy as np\n",
    "from collections import Counter"
   ]
  },
  {
   "cell_type": "code",
   "execution_count": 2,
   "id": "3998b42f-e6a2-4fcf-af67-0da0cfac0f8d",
   "metadata": {},
   "outputs": [],
   "source": [
    "def read_input(infile):\n",
    "    data = []\n",
    "    with open(infile, 'r') as inf:\n",
    "        for line in inf.readlines():\n",
    "            data.append(int(line.strip()))\n",
    "    return data"
   ]
  },
  {
   "cell_type": "code",
   "execution_count": 3,
   "id": "da5c17b3-477b-4f2c-a51b-b526a14f95f9",
   "metadata": {},
   "outputs": [],
   "source": [
    "def calc_secrets(start):\n",
    "\n",
    "    secrets = []\n",
    "    s = start\n",
    "    for _ in range(2000):\n",
    "        secrets.append(s)\n",
    "        s = ((s * 64) ^ s) % 16777216\n",
    "        s = (s // 32) ^ s\n",
    "        s = ((s * 2048) ^ s) % 16777216\n",
    "        \n",
    "    secrets.append(s)\n",
    "    return np.array(secrets, dtype=int)\n",
    "\n",
    "def find_sequences(values):\n",
    "\n",
    "    secrets = []\n",
    "    for v in values:\n",
    "        secrets.append(calc_secrets(v))\n",
    "\n",
    "    bananas = Counter()\n",
    "\n",
    "    for s in secrets:\n",
    "        seq_dict = {}\n",
    "        price = s % 10\n",
    "        change = price[1:] - price[:-1]\n",
    "        for i in range(len(change)-5):\n",
    "            stup = tuple(change[i:i+4])\n",
    "            if stup not in seq_dict:\n",
    "                seq_dict[stup] = price[i+4]\n",
    "        bananas += seq_dict\n",
    "        \n",
    "    return int(max(bananas.values()))\n",
    "\n",
    "def calc_sum(values):\n",
    "\n",
    "    s = 0\n",
    "    for v in values:\n",
    "        s += calc_secrets(v)[-1]\n",
    "\n",
    "    return s"
   ]
  },
  {
   "cell_type": "code",
   "execution_count": 4,
   "id": "02f1ce99-6ff6-4230-acc0-c841156b0b96",
   "metadata": {},
   "outputs": [
    {
     "name": "stdout",
     "output_type": "stream",
     "text": [
      "*******\n",
      "Puzzle1\n",
      "*******\n",
      "\n",
      "Test case\n",
      "---------\n",
      "\n",
      "Sum is 37327623\n",
      "\n",
      "Puzzle case\n",
      "-----------\n",
      "\n",
      "Sum is 15613157363\n",
      "\n",
      "*******\n",
      "Puzzle2\n",
      "*******\n",
      "\n",
      "Test case\n",
      "---------\n",
      "\n",
      "Number of bananas is 23\n",
      "\n",
      "Puzzle case\n",
      "-----------\n",
      "\n",
      "Number of bananas is 1784\n"
     ]
    }
   ],
   "source": [
    "print('*******\\nPuzzle1\\n*******\\n')\n",
    "\n",
    "print('Test case\\n---------\\n')\n",
    "\n",
    "res = calc_sum(read_input('input22a.txt'))\n",
    "\n",
    "print(f'Sum is {res}')\n",
    "\n",
    "assert res == 37327623\n",
    "\n",
    "print('\\nPuzzle case\\n-----------\\n')\n",
    "\n",
    "res = calc_sum(read_input('input22.txt'))\n",
    "\n",
    "print(f'Sum is {res}')\n",
    "\n",
    "assert res == 15613157363\n",
    "\n",
    "print('\\n*******\\nPuzzle2\\n*******\\n')\n",
    "\n",
    "print('Test case\\n---------\\n')\n",
    "\n",
    "res = find_sequences(read_input('input22b.txt'))\n",
    "\n",
    "print(f'Number of bananas is {res}')\n",
    "\n",
    "assert res == 23\n",
    "\n",
    "print('\\nPuzzle case\\n-----------\\n')\n",
    "\n",
    "res = find_sequences(read_input('input22.txt'))\n",
    "\n",
    "print(f'Number of bananas is {res}')\n",
    "\n",
    "assert res == 1784\n"
   ]
  },
  {
   "cell_type": "code",
   "execution_count": null,
   "id": "075c398f-4e1e-4b70-a457-f2f8dfc0e8de",
   "metadata": {},
   "outputs": [],
   "source": []
  }
 ],
 "metadata": {
  "kernelspec": {
   "display_name": "Python 3 (ipykernel)",
   "language": "python",
   "name": "python3"
  },
  "language_info": {
   "codemirror_mode": {
    "name": "ipython",
    "version": 3
   },
   "file_extension": ".py",
   "mimetype": "text/x-python",
   "name": "python",
   "nbconvert_exporter": "python",
   "pygments_lexer": "ipython3",
   "version": "3.11.4"
  }
 },
 "nbformat": 4,
 "nbformat_minor": 5
}
