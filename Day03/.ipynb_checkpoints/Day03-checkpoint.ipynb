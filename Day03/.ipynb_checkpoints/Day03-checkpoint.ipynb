{
 "cells": [
  {
   "cell_type": "code",
   "execution_count": 1,
   "id": "a9ee00fa-7910-4dff-9470-04021b0f16b3",
   "metadata": {},
   "outputs": [],
   "source": [
    "import re"
   ]
  },
  {
   "cell_type": "code",
   "execution_count": 2,
   "id": "3998b42f-e6a2-4fcf-af67-0da0cfac0f8d",
   "metadata": {},
   "outputs": [],
   "source": [
    "def read_input(infile):\n",
    "    lines = []\n",
    "    with open(infile, 'r') as inf:\n",
    "        for line in inf.readlines():\n",
    "            lines.append(line.strip())\n",
    "    return lines"
   ]
  },
  {
   "cell_type": "code",
   "execution_count": 3,
   "id": "da5c17b3-477b-4f2c-a51b-b526a14f95f9",
   "metadata": {},
   "outputs": [],
   "source": [
    "def find_valid_mult(lines):\n",
    "    sum = 0\n",
    "    for line in lines:\n",
    "        for a, b in re.findall(r'mul\\((\\d{1,3}),(\\d{1,3})\\)', line):\n",
    "            sum += int(a)*int(b)\n",
    "    return sum"
   ]
  },
  {
   "cell_type": "code",
   "execution_count": 4,
   "id": "157685f6-8f23-410a-b442-787503a94f3e",
   "metadata": {},
   "outputs": [],
   "source": [
    "def find_cond_mult(lines):\n",
    "    sum = 0\n",
    "    do = True\n",
    "    for line in lines:\n",
    "        for ins in re.findall(r\"mul\\(\\d{1,3},\\d{1,3}\\)|do\\(\\)|don't\\(\\)\", line):\n",
    "            if ins == \"don't()\":\n",
    "                do = False\n",
    "            elif ins == 'do()':\n",
    "                do = True\n",
    "            else:\n",
    "                if do:\n",
    "                    for a, b in re.findall(r'mul\\((\\d{1,3}),(\\d{1,3})\\)', ins):\n",
    "                        sum += int(a)*int(b)\n",
    "    return sum"
   ]
  },
  {
   "cell_type": "code",
   "execution_count": 5,
   "id": "02f1ce99-6ff6-4230-acc0-c841156b0b96",
   "metadata": {},
   "outputs": [
    {
     "name": "stdout",
     "output_type": "stream",
     "text": [
      "*******\n",
      "Puzzle1\n",
      "*******\n",
      "\n",
      "Test case\n",
      "---------\n",
      "\n",
      "Sum is 161\n",
      "\n",
      "Puzzle case\n",
      "-----------\n",
      "\n",
      "Sum is 179571322\n",
      "\n",
      "*******\n",
      "Puzzle2\n",
      "*******\n",
      "\n",
      "Test case\n",
      "---------\n",
      "\n",
      "Sum is 48\n",
      "\n",
      "Puzzle case\n",
      "-----------\n",
      "\n",
      "Sum is 103811193\n"
     ]
    }
   ],
   "source": [
    "print('*******\\nPuzzle1\\n*******\\n')\n",
    "\n",
    "print('Test case\\n---------\\n')\n",
    "\n",
    "res = find_valid_mult(read_input('input03a.txt'))\n",
    "\n",
    "print(f'Sum is {res}')\n",
    "\n",
    "assert res == 161\n",
    "\n",
    "print('\\nPuzzle case\\n-----------\\n')\n",
    "\n",
    "res = find_valid_mult(read_input('input03.txt'))\n",
    "\n",
    "print(f'Sum is {res}')\n",
    "\n",
    "assert res == 179571322\n",
    "\n",
    "print('\\n*******\\nPuzzle2\\n*******\\n')\n",
    "\n",
    "print('Test case\\n---------\\n')\n",
    "\n",
    "res = find_cond_mult(read_input('input03b.txt'))\n",
    "\n",
    "print(f'Sum is {res}')\n",
    "\n",
    "assert res == 48\n",
    "\n",
    "print('\\nPuzzle case\\n-----------\\n')\n",
    "\n",
    "res = find_cond_mult(read_input('input03.txt'))\n",
    "\n",
    "print(f'Sum is {res}')\n",
    "\n",
    "assert res == 103811193\n"
   ]
  },
  {
   "cell_type": "code",
   "execution_count": null,
   "id": "478feba0-3d74-4ece-85c6-781180f497c6",
   "metadata": {},
   "outputs": [],
   "source": []
  }
 ],
 "metadata": {
  "kernelspec": {
   "display_name": "Python 3 (ipykernel)",
   "language": "python",
   "name": "python3"
  },
  "language_info": {
   "codemirror_mode": {
    "name": "ipython",
    "version": 3
   },
   "file_extension": ".py",
   "mimetype": "text/x-python",
   "name": "python",
   "nbconvert_exporter": "python",
   "pygments_lexer": "ipython3",
   "version": "3.10.4"
  }
 },
 "nbformat": 4,
 "nbformat_minor": 5
}
