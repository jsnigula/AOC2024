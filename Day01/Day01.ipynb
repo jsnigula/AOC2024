{
 "cells": [
  {
   "cell_type": "code",
   "execution_count": 1,
   "id": "a9ee00fa-7910-4dff-9470-04021b0f16b3",
   "metadata": {},
   "outputs": [],
   "source": [
    "import numpy as np"
   ]
  },
  {
   "cell_type": "code",
   "execution_count": 2,
   "id": "0fe9b4a7-2bad-4ba0-b4e0-684e5024ebd8",
   "metadata": {},
   "outputs": [],
   "source": [
    "def read_input(infile):\n",
    "    left = []\n",
    "    right = []\n",
    "    with open(infile, 'r') as inf:\n",
    "        for line in inf.readlines():\n",
    "            l, r = line.strip().split()\n",
    "            left.append(int(l))\n",
    "            right.append(int(r))\n",
    "    return left, right\n",
    "\n",
    "def sort_and_sub(left, right):\n",
    "    l = np.array(sorted(left))\n",
    "    r = np.array(sorted(right))\n",
    "\n",
    "    return np.sum(np.abs(l-r))\n",
    "\n",
    "def calc_score(left, right):\n",
    "\n",
    "    n_r = np.array(right)\n",
    "    score = 0\n",
    "    for v in left:\n",
    "        score += len(np.where(n_r == v)[0]) * v\n",
    "\n",
    "    return score"
   ]
  },
  {
   "cell_type": "code",
   "execution_count": 3,
   "id": "02f1ce99-6ff6-4230-acc0-c841156b0b96",
   "metadata": {},
   "outputs": [
    {
     "name": "stdout",
     "output_type": "stream",
     "text": [
      "*****\n",
      "Puzzle1\n",
      "*****\n",
      "\n",
      "Test case\n",
      "\n",
      "Distance is 11\n",
      "\n",
      "Puzzle case\n",
      "\n",
      "Distance is 3246517\n",
      "\n",
      "*****\n",
      "Puzzle2\n",
      "*****\n",
      "\n",
      "Test case\n",
      "\n",
      "Score is 31\n",
      "\n",
      "Puzzle case\n",
      "\n",
      "Score is 29379307\n"
     ]
    }
   ],
   "source": [
    "print('*****\\nPuzzle1\\n*****\\n')\n",
    "\n",
    "print('Test case\\n')\n",
    "\n",
    "res = sort_and_sub(*read_input('input01a.txt'))\n",
    "\n",
    "print(f'Distance is {res}')\n",
    "\n",
    "assert res == 11\n",
    "\n",
    "print('\\nPuzzle case\\n')\n",
    "\n",
    "res = sort_and_sub(*read_input('input01.txt'))\n",
    "\n",
    "print(f'Distance is {res}')\n",
    "\n",
    "assert res == 3246517\n",
    "\n",
    "print('\\n*****\\nPuzzle2\\n*****\\n')\n",
    "\n",
    "print('Test case\\n')\n",
    "\n",
    "res = calc_score(*read_input('input01a.txt'))\n",
    "\n",
    "print(f'Score is {res}')\n",
    "\n",
    "assert res == 31\n",
    "\n",
    "print('\\nPuzzle case\\n')\n",
    "\n",
    "res = calc_score(*read_input('input01.txt'))\n",
    "\n",
    "print(f'Score is {res}')\n",
    "\n",
    "assert res == 29379307\n",
    "\n"
   ]
  },
  {
   "cell_type": "code",
   "execution_count": null,
   "id": "6320c48f-268d-482a-8132-a332b7de0312",
   "metadata": {},
   "outputs": [],
   "source": []
  }
 ],
 "metadata": {
  "kernelspec": {
   "display_name": "Python 3 (ipykernel)",
   "language": "python",
   "name": "python3"
  },
  "language_info": {
   "codemirror_mode": {
    "name": "ipython",
    "version": 3
   },
   "file_extension": ".py",
   "mimetype": "text/x-python",
   "name": "python",
   "nbconvert_exporter": "python",
   "pygments_lexer": "ipython3",
   "version": "3.10.4"
  }
 },
 "nbformat": 4,
 "nbformat_minor": 5
}
