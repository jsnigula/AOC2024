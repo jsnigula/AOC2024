{
 "cells": [
  {
   "cell_type": "code",
   "execution_count": 33,
   "id": "3998b42f-e6a2-4fcf-af67-0da0cfac0f8d",
   "metadata": {},
   "outputs": [],
   "source": [
    "def read_input(infile):\n",
    "    with open(infile, 'r') as inf:\n",
    "        return [int(v) for v in inf.readline().strip().split()]"
   ]
  },
  {
   "cell_type": "code",
   "execution_count": 34,
   "id": "da5c17b3-477b-4f2c-a51b-b526a14f95f9",
   "metadata": {},
   "outputs": [],
   "source": [
    "def process(v):\n",
    "    s = str(v)\n",
    "    if v == 0:\n",
    "        return [1]\n",
    "    elif len(s) % 2 == 0:\n",
    "        return [int(s[:len(s)//2]), int(s[len(s)//2:])]\n",
    "    else:\n",
    "        return [v * 2024]\n",
    "\n",
    "def r_func(v, lvl, pdict, maxlvl):\n",
    "\n",
    "    n = 0\n",
    "    if (v, maxlvl-lvl) in pdict:\n",
    "        return pdict[(v, maxlvl-lvl)]\n",
    "    next_vals = process(v)\n",
    "    if lvl == maxlvl:\n",
    "        return len(next_vals)\n",
    "        \n",
    "    for i in next_vals:\n",
    "        n += r_func(i, lvl+1, pdict, maxlvl)\n",
    "\n",
    "    pdict[(v, maxlvl-lvl)] = n\n",
    "    return n\n",
    "\n",
    "def n_stones(data, maxlvl):\n",
    "    r = 0\n",
    "    pdict = {}\n",
    "    for d in data:\n",
    "        r += r_func(d, 1, pdict, maxlvl)\n",
    "\n",
    "    return r\n"
   ]
  },
  {
   "cell_type": "code",
   "execution_count": 37,
   "id": "478feba0-3d74-4ece-85c6-781180f497c6",
   "metadata": {},
   "outputs": [
    {
     "name": "stdout",
     "output_type": "stream",
     "text": [
      "*******\n",
      "Puzzle1\n",
      "*******\n",
      "\n",
      "Test case\n",
      "---------\n",
      "\n",
      "Number of stones after 25 blinks is 55312\n",
      "\n",
      "Puzzle case\n",
      "-----------\n",
      "\n",
      "Number of stones after 25 blinks is 197157\n",
      "\n",
      "*******\n",
      "Puzzle2\n",
      "*******\n",
      "\n",
      "Test case\n",
      "---------\n",
      "\n",
      "Number of stones after 75 blinks is 65601038650482\n",
      "\n",
      "Puzzle case\n",
      "-----------\n",
      "\n",
      "Number of stones after 75 blinks is 234430066982597\n"
     ]
    }
   ],
   "source": [
    "print('*******\\nPuzzle1\\n*******\\n')\n",
    "\n",
    "print('Test case\\n---------\\n')\n",
    "\n",
    "res = n_stones(read_input('input11a.txt'), 25)\n",
    "\n",
    "print(f'Number of stones after 25 blinks is {res}')\n",
    "\n",
    "assert res == 55312\n",
    "\n",
    "print('\\nPuzzle case\\n-----------\\n')\n",
    "\n",
    "res = n_stones(read_input('input11.txt'), 25)\n",
    "\n",
    "print(f'Number of stones after 25 blinks is {res}')\n",
    "\n",
    "assert res == 197157\n",
    "\n",
    "print('\\n*******\\nPuzzle2\\n*******\\n')\n",
    "\n",
    "print('Test case\\n---------\\n')\n",
    "\n",
    "res = n_stones(read_input('input11a.txt'), 75)\n",
    "\n",
    "print(f'Number of stones after 75 blinks is {res}')\n",
    "\n",
    "assert res == 65601038650482\n",
    "\n",
    "print('\\nPuzzle case\\n-----------\\n')\n",
    "\n",
    "res = n_stones(read_input('input11.txt'), 75)\n",
    "\n",
    "print(f'Number of stones after 75 blinks is {res}')\n",
    "\n",
    "assert res == 234430066982597\n"
   ]
  },
  {
   "cell_type": "code",
   "execution_count": null,
   "id": "3ac8c83c-9fc6-4325-ba09-1c805505536d",
   "metadata": {},
   "outputs": [],
   "source": []
  }
 ],
 "metadata": {
  "kernelspec": {
   "display_name": "Python 3 (ipykernel)",
   "language": "python",
   "name": "python3"
  },
  "language_info": {
   "codemirror_mode": {
    "name": "ipython",
    "version": 3
   },
   "file_extension": ".py",
   "mimetype": "text/x-python",
   "name": "python",
   "nbconvert_exporter": "python",
   "pygments_lexer": "ipython3",
   "version": "3.11.4"
  }
 },
 "nbformat": 4,
 "nbformat_minor": 5
}
